{
  "nbformat": 4,
  "nbformat_minor": 0,
  "metadata": {
    "colab": {
      "name": "Mask_AI.ipynb",
      "provenance": [],
      "collapsed_sections": [],
      "authorship_tag": "ABX9TyMEDsZxyjhtz85dnItz/hsH",
      "include_colab_link": true
    },
    "kernelspec": {
      "name": "python3",
      "display_name": "Python 3"
    }
  },
  "cells": [
    {
      "cell_type": "markdown",
      "metadata": {
        "id": "view-in-github",
        "colab_type": "text"
      },
      "source": [
        "<a href=\"https://colab.research.google.com/github/leon123858/YOLO_exercise/blob/master/Mask_AI.ipynb\" target=\"_parent\"><img src=\"https://colab.research.google.com/assets/colab-badge.svg\" alt=\"Open In Colab\"/></a>"
      ]
    },
    {
      "cell_type": "code",
      "metadata": {
        "id": "_rt1d4d4c8K3",
        "colab_type": "code",
        "colab": {}
      },
      "source": [
        "#引入一個開源運算框架 \n",
        "! git clone https://github.com/pjreddie/darknet.git\n",
        "# 修改make file\n",
        "! head darknet/Makefile\n",
        "!sed -i \"s/GPU=0/GPU=1/g\" darknet/Makefile\n",
        "!sed -i \"s/CUDNN=0/CUDNN=1/g\" darknet/Makefile\n",
        "!sed -i \"s/OPENCV=0/OPENCV=1/g\" darknet/Makefile\n",
        "#編譯\n",
        "! cd darknet; make"
      ],
      "execution_count": null,
      "outputs": []
    },
    {
      "cell_type": "code",
      "metadata": {
        "id": "VB6D-KJAef5j",
        "colab_type": "code",
        "colab": {}
      },
      "source": [
        "#抓取訓練資料\n",
        "!wget https://tinyurl.com/y6d6p24o"
      ],
      "execution_count": null,
      "outputs": []
    },
    {
      "cell_type": "code",
      "metadata": {
        "id": "xP5a-kn6e02J",
        "colab_type": "code",
        "colab": {
          "base_uri": "https://localhost:8080/",
          "height": 35
        },
        "outputId": "989aa80b-3949-4743-ad41-c276ac4d8075"
      },
      "source": [
        "#更新成可用的檔名\n",
        "!mv /content/y6d6p24o /content/medical-masksdataset.zip"
      ],
      "execution_count": 6,
      "outputs": [
        {
          "output_type": "stream",
          "text": [
            "mv: cannot stat '/content/y6d6p24o': No such file or directory\n"
          ],
          "name": "stdout"
        }
      ]
    },
    {
      "cell_type": "code",
      "metadata": {
        "id": "X6hMLWldgCso",
        "colab_type": "code",
        "colab": {}
      },
      "source": [
        "#解壓縮\n",
        "! unzip /content/medical-masksdataset.zip > data_unzip.log"
      ],
      "execution_count": 8,
      "outputs": []
    },
    {
      "cell_type": "code",
      "metadata": {
        "id": "u4v2OIa5ga0q",
        "colab_type": "code",
        "colab": {}
      },
      "source": [
        "#查看圖片對應的XML 用支援YOLO的標註器完成\n",
        "! cat /content/labels/012106.jpg_1140x855.xml"
      ],
      "execution_count": null,
      "outputs": []
    },
    {
      "cell_type": "code",
      "metadata": {
        "id": "G6SKriwFg-Rt",
        "colab_type": "code",
        "colab": {}
      },
      "source": [
        "#建立資料夾\n",
        "! rm -rf /content/yolo\n",
        "! mkdir /content/yolo"
      ],
      "execution_count": 11,
      "outputs": []
    },
    {
      "cell_type": "code",
      "metadata": {
        "id": "rPxpkZEwj9sj",
        "colab_type": "code",
        "colab": {}
      },
      "source": [
        "from bs4 import BeautifulSoup\n",
        "import os\n",
        "import shutil\n",
        "\n",
        "status_dio = {'good':2,'bad':1,'none':0}\n",
        "def getYoloFormat(filename,label_name,img_path,yolo_path,newname):\n",
        "  with open(label_)"
      ],
      "execution_count": null,
      "outputs": []
    }
  ]
}