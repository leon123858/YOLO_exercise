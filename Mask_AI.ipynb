{
  "nbformat": 4,
  "nbformat_minor": 0,
  "metadata": {
    "colab": {
      "name": "Mask_AI.ipynb",
      "provenance": [],
      "collapsed_sections": [],
      "authorship_tag": "ABX9TyOcbukVO4Q9l7YbVmeVROqT",
      "include_colab_link": true
    },
    "kernelspec": {
      "name": "python3",
      "display_name": "Python 3"
    }
  },
  "cells": [
    {
      "cell_type": "markdown",
      "metadata": {
        "id": "view-in-github",
        "colab_type": "text"
      },
      "source": [
        "<a href=\"https://colab.research.google.com/github/leon123858/YOLO_exercise/blob/master/Mask_AI.ipynb\" target=\"_parent\"><img src=\"https://colab.research.google.com/assets/colab-badge.svg\" alt=\"Open In Colab\"/></a>"
      ]
    },
    {
      "cell_type": "code",
      "metadata": {
        "id": "_rt1d4d4c8K3",
        "colab_type": "code",
        "colab": {}
      },
      "source": [
        "#引入一個開源運算框架 \n",
        "! git clone https://github.com/pjreddie/darknet.git\n",
        "# 修改make file\n",
        "! head darknet/Makefile\n",
        "!sed -i \"s/GPU=0/GPU=1/g\" darknet/Makefile\n",
        "!sed -i \"s/CUDNN=0/CUDNN=1/g\" darknet/Makefile\n",
        "!sed -i \"s/OPENCV=0/OPENCV=1/g\" darknet/Makefile\n",
        "#編譯\n",
        "! cd darknet; make"
      ],
      "execution_count": null,
      "outputs": []
    },
    {
      "cell_type": "code",
      "metadata": {
        "id": "VB6D-KJAef5j",
        "colab_type": "code",
        "colab": {}
      },
      "source": [
        "#抓取訓練資料\n",
        "!wget https://tinyurl.com/y6d6p24o"
      ],
      "execution_count": null,
      "outputs": []
    },
    {
      "cell_type": "code",
      "metadata": {
        "id": "xP5a-kn6e02J",
        "colab_type": "code",
        "colab": {
          "base_uri": "https://localhost:8080/",
          "height": 35
        },
        "outputId": "989aa80b-3949-4743-ad41-c276ac4d8075"
      },
      "source": [
        "#更新成可用的檔名\n",
        "!mv /content/y6d6p24o /content/medical-masksdataset.zip"
      ],
      "execution_count": 6,
      "outputs": [
        {
          "output_type": "stream",
          "text": [
            "mv: cannot stat '/content/y6d6p24o': No such file or directory\n"
          ],
          "name": "stdout"
        }
      ]
    },
    {
      "cell_type": "code",
      "metadata": {
        "id": "X6hMLWldgCso",
        "colab_type": "code",
        "colab": {}
      },
      "source": [
        "#解壓縮\n",
        "! unzip /content/medical-masksdataset.zip > data_unzip.log"
      ],
      "execution_count": 8,
      "outputs": []
    },
    {
      "cell_type": "code",
      "metadata": {
        "id": "u4v2OIa5ga0q",
        "colab_type": "code",
        "colab": {}
      },
      "source": [
        "#查看圖片對應的XML 用支援YOLO的標註器完成\n",
        "! cat /content/labels/012106.jpg_1140x855.xml"
      ],
      "execution_count": null,
      "outputs": []
    },
    {
      "cell_type": "code",
      "metadata": {
        "id": "G6SKriwFg-Rt",
        "colab_type": "code",
        "colab": {}
      },
      "source": [
        "#建立資料夾\n",
        "! rm -rf /content/yolo\n",
        "! mkdir /content/yolo"
      ],
      "execution_count": 11,
      "outputs": []
    },
    {
      "cell_type": "code",
      "metadata": {
        "id": "rPxpkZEwj9sj",
        "colab_type": "code",
        "colab": {}
      },
      "source": [
        "#建置給YOLO format的函數-> 把data 的 label 給yolo用\n",
        "from bs4 import BeautifulSoup\n",
        "import os\n",
        "import shutil\n",
        "\n",
        "status_dic = {'good':2,'bad':1,'none':0}\n",
        "def getYoloFormat(filename,label_path,img_path,yolo_path,newname):\n",
        "  with open(label_path+ filename, 'r') as f:\n",
        "    # read xml\n",
        "    soup = BeautifulSoup(f.read(),'xml')\n",
        "    imgname = soup.select_one('filename').text\n",
        "    image_w = int(soup.select_one('width').text)\n",
        "    image_h = int(soup.select_one('height').text)\n",
        "    ary = []\n",
        "    for obj in soup.select('object'):\n",
        "      #轉換標籤位置\n",
        "      xmin = int(obj.select_one('xmin').text)\n",
        "      xmax = int(obj.select_one('xmax').text)\n",
        "      ymin = int(obj.select_one('ymin').text)\n",
        "      ymax = int(obj.select_one('ymax').text)\n",
        "      objclass = status_dic.get(obj.select_one('name').text)\n",
        "      #照YOLO的格式訂好x,y,w,h\n",
        "      x = (xmin + (xmax-xmin)/2) * 1.0 / image_w\n",
        "      y = (ymin + (ymax-ymin)/2) * 1.0 / image_h\n",
        "      w= (xmax-xmin) * 1.0 / image_w\n",
        "      h = (ymax-ymin) * 1.0 / image_h\n",
        "      ary.append(' '.join([str(objclass), str(x), str(y), str(w), str(h)]))\n",
        "    #圖片本來在image裡面，把圖片移到yolo資料夾下\n",
        "    #同時把yolo參數檔寫到yolo之下\n",
        "    if os.path.exists(img_path + imgname):\n",
        "        shutil.copyfile(img_path + imgname, yolo_path + newname + '.jpg')\n",
        "        with open(yolo_path + newname + '.txt', 'w') as f:\n",
        "          f.write('\\n'.join(ary))\n",
        "\n"
      ],
      "execution_count": 32,
      "outputs": []
    },
    {
      "cell_type": "code",
      "metadata": {
        "id": "QLi3SbHPrIx6",
        "colab_type": "code",
        "colab": {
          "base_uri": "https://localhost:8080/",
          "height": 35
        },
        "outputId": "f6b48035-4396-4405-ec90-75bfbb10ba75"
      },
      "source": [
        "#使用函數 把訓練圖片和標籤(處理後變txt)放入同一個目錄下\n",
        "import os\n",
        "labelpath = '/content/labels/'\n",
        "imgpath = '/content/images/'\n",
        "yolopath = '/content/yolo/'\n",
        "ary = []\n",
        "for idx,f in enumerate(os.listdir(labelpath)):\n",
        "  try:\n",
        "    getYoloFormat(f,labelpath,imgpath,yolopath,str(idx))\n",
        "  except Exception as e:\n",
        "    print(e)"
      ],
      "execution_count": 33,
      "outputs": [
        {
          "output_type": "stream",
          "text": [
            "float division by zero\n"
          ],
          "name": "stdout"
        }
      ]
    },
    {
      "cell_type": "code",
      "metadata": {
        "id": "Nr2jC9Xuqg2S",
        "colab_type": "code",
        "colab": {
          "base_uri": "https://localhost:8080/",
          "height": 52
        },
        "outputId": "600da187-1578-4c3d-e7d9-b24800f60f03"
      },
      "source": [
        "#看一下標籤轉換後的樣子\n",
        "! cat /content/yolo/0.txt"
      ],
      "execution_count": 34,
      "outputs": [
        {
          "output_type": "stream",
          "text": [
            "2 0.20944444444444443 0.535 0.07444444444444444 0.09285714285714286\n",
            "2 0.5677777777777778 0.13 0.09555555555555556 0.11142857142857143"
          ],
          "name": "stdout"
        }
      ]
    },
    {
      "cell_type": "code",
      "metadata": {
        "id": "teiUs-f6y_FC",
        "colab_type": "code",
        "colab": {}
      },
      "source": [
        "#建立資料夾\n",
        "! rm -rf /content/cfg_mask\n",
        "! mkdir /content/cfg_mask"
      ],
      "execution_count": 35,
      "outputs": []
    },
    {
      "cell_type": "code",
      "metadata": {
        "id": "zemEBCsu1ZEf",
        "colab_type": "code",
        "colab": {
          "base_uri": "https://localhost:8080/",
          "height": 35
        },
        "outputId": "9f6114f4-ad39-42a3-8dec-58754a45de82"
      },
      "source": [
        "#計算資料總數 且8:2\n",
        "import os\n",
        "datasets = ['/content/yolo/' + f for f in os.listdir('/content/yolo/') if not f.endswith('.txt')]\n",
        "len(datasets)*0.8"
      ],
      "execution_count": 36,
      "outputs": [
        {
          "output_type": "execute_result",
          "data": {
            "text/plain": [
              "541.6"
            ]
          },
          "metadata": {
            "tags": []
          },
          "execution_count": 36
        }
      ]
    },
    {
      "cell_type": "code",
      "metadata": {
        "id": "XayEudH_3NVs",
        "colab_type": "code",
        "colab": {}
      },
      "source": [
        "#資料分兩邊擺\n",
        "with open('/content/cfg_mask/train.txt','w') as f:\n",
        "  f.write('\\n'.join(datasets[0:540]))\n",
        "with open('/content/cfg_mask/test.txt','w') as f:\n",
        "  f.write('\\n'.join(datasets[540:]))"
      ],
      "execution_count": 38,
      "outputs": []
    },
    {
      "cell_type": "code",
      "metadata": {
        "id": "i6x6adjg5mz5",
        "colab_type": "code",
        "colab": {}
      },
      "source": [
        "#取得設定檔\n",
        "!wget https://drive.google.com/u/1/uc?id=1x1Hz131ZZsQKw55vM8CeOp_L-hRVlcbn&export=download\n",
        "!wget https://drive.google.com/u/1/uc?id=1yuK3_SuS5YWZpV7fVWyVK6c_Au43nhus&export=download"
      ],
      "execution_count": null,
      "outputs": []
    },
    {
      "cell_type": "code",
      "metadata": {
        "id": "vH7xXFwX-S4t",
        "colab_type": "code",
        "colab": {}
      },
      "source": [
        "#用旁邊改名 再移動位置\n",
        "! mv '/content/obj.data' '/content/cfg_mask/obj.data'\n",
        "! mv '/content/obj.names' '/content/cfg_mask/obj.names'"
      ],
      "execution_count": 40,
      "outputs": []
    },
    {
      "cell_type": "code",
      "metadata": {
        "id": "wWdhqIiM_ALf",
        "colab_type": "code",
        "colab": {
          "base_uri": "https://localhost:8080/",
          "height": 69
        },
        "outputId": "76a92533-4ca9-448c-a2a6-60e078549b6f"
      },
      "source": [
        "#看一下設定檔\n",
        "! head /content/cfg_mask/obj.names"
      ],
      "execution_count": 41,
      "outputs": [
        {
          "output_type": "stream",
          "text": [
            "none\n",
            "bad\n",
            "good\n"
          ],
          "name": "stdout"
        }
      ]
    },
    {
      "cell_type": "code",
      "metadata": {
        "id": "zO8NMUObAMwV",
        "colab_type": "code",
        "colab": {}
      },
      "source": [
        "# 建立權重資料夾\n",
        "! mkdir /content/cfg_mask/weights"
      ],
      "execution_count": 44,
      "outputs": []
    },
    {
      "cell_type": "code",
      "metadata": {
        "id": "pqBJEVYDAi0l",
        "colab_type": "code",
        "colab": {}
      },
      "source": [
        "#修改參數\n",
        "#先複製原來的檔案到 cfg_mask\n",
        "! cp /content/darknet/cfg/yolov3-tiny.cfg /content/cfg_mask/"
      ],
      "execution_count": 45,
      "outputs": []
    },
    {
      "cell_type": "code",
      "metadata": {
        "id": "hlHop1bXA9pQ",
        "colab_type": "code",
        "colab": {
          "base_uri": "https://localhost:8080/",
          "height": 87
        },
        "outputId": "ca680cc6-a95a-41e0-a74e-275a76c3a4fa"
      },
      "source": [
        "#看一下設定檔\n",
        "! sed -n -e 127p -e 135p -e 171p -e 177p /content/cfg_mask/yolov3-tiny.cfg"
      ],
      "execution_count": 48,
      "outputs": [
        {
          "output_type": "stream",
          "text": [
            "filters=24\n",
            "classes=3\n",
            "filters=24\n",
            "classes=3\n"
          ],
          "name": "stdout"
        }
      ]
    },
    {
      "cell_type": "code",
      "metadata": {
        "id": "x_4-iuJJBBwh",
        "colab_type": "code",
        "colab": {}
      },
      "source": [
        "#我們的class 只有三類 戴 沒戴 戴的不正常\n",
        "! sed -i '127s/255/24/' /content/cfg_mask/yolov3-tiny.cfg\n",
        "! sed -i '135s/80/3/' /content/cfg_mask/yolov3-tiny.cfg\n",
        "! sed -i '171s/255/24/' /content/cfg_mask/yolov3-tiny.cfg\n",
        "! sed -i '177s/80/3/' /content/cfg_mask/yolov3-tiny.cfg"
      ],
      "execution_count": 47,
      "outputs": []
    },
    {
      "cell_type": "code",
      "metadata": {
        "id": "a7w7ut8zB6rH",
        "colab_type": "code",
        "colab": {}
      },
      "source": [
        "# 抓取模型 (我們的模型構築在已經訓練好的一個模型上) 再複製到資料夾\n",
        "#!wget https://pjreddie.com/media/files/darknet53.conv.74\n",
        "! cp \"/content/darknet53.conv.74\" /content/cfg_mask/"
      ],
      "execution_count": 50,
      "outputs": []
    },
    {
      "cell_type": "code",
      "metadata": {
        "id": "tv3REI0pGo7I",
        "colab_type": "code",
        "colab": {
          "base_uri": "https://localhost:8080/",
          "height": 52
        },
        "outputId": "2525f6a2-465a-4a97-bdc0-7ed61e58d756"
      },
      "source": [
        "! darknet/darknet detector train /content/cfg_mask/obj.data /content/cfg_mask/yolov3-tiny.cfg /content/cfg_mask/darknet53.conv.74"
      ],
      "execution_count": 52,
      "outputs": [
        {
          "output_type": "stream",
          "text": [
            "CUDA Error: no CUDA-capable device is detected\n",
            "darknet: ./src/cuda.c:36: check_error: Assertion `0' failed.\n"
          ],
          "name": "stdout"
        }
      ]
    }
  ]
}